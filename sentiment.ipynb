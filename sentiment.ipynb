{
 "cells": [
  {
   "cell_type": "code",
   "execution_count": 1,
   "metadata": {},
   "outputs": [],
   "source": [
    "import numpy as np\n",
    "import pandas as pd\n",
    "import matplotlib.pyplot as plt\n",
    "import seaborn as sns\n",
    "\n",
    "import re\n",
    "from nltk.tokenize import word_tokenize\n",
    "\n",
    "from sklearn.preprocessing import LabelEncoder\n",
    "from sklearn.svm import SVC\n",
    "from sklearn.model_selection import train_test_split, StratifiedKFold, cross_val_score\n",
    "from sklearn.pipeline import make_pipeline, Pipeline\n",
    "from sklearn.model_selection import GridSearchCV\n",
    "from sklearn.metrics import make_scorer, accuracy_score, f1_score\n",
    "from sklearn.metrics import roc_curve, auc\n",
    "from sklearn.metrics import confusion_matrix, roc_auc_score, recall_score, precision_score\n",
    "from sklearn.feature_extraction.text import TfidfVectorizer\n",
    "\n",
    "from Sastrawi.StopWordRemover.StopWordRemoverFactory import StopWordRemoverFactory\n",
    "from Sastrawi.Stemmer.StemmerFactory import StemmerFactory\n",
    "from sklearn.base import BaseEstimator, TransformerMixin"
   ]
  },
  {
   "cell_type": "markdown",
   "metadata": {},
   "source": [
    "## Prepare"
   ]
  },
  {
   "cell_type": "code",
   "execution_count": 2,
   "metadata": {},
   "outputs": [],
   "source": [
    "df = pd.read_csv('./Indonesian Tweets COVID-19 Handling (2020)/csv/positive-negative-only.csv', names=['tweet', 'label'])"
   ]
  },
  {
   "cell_type": "code",
   "execution_count": 3,
   "metadata": {},
   "outputs": [
    {
     "data": {
      "text/html": [
       "<div>\n",
       "<style scoped>\n",
       "    .dataframe tbody tr th:only-of-type {\n",
       "        vertical-align: middle;\n",
       "    }\n",
       "\n",
       "    .dataframe tbody tr th {\n",
       "        vertical-align: top;\n",
       "    }\n",
       "\n",
       "    .dataframe thead th {\n",
       "        text-align: right;\n",
       "    }\n",
       "</style>\n",
       "<table border=\"1\" class=\"dataframe\">\n",
       "  <thead>\n",
       "    <tr style=\"text-align: right;\">\n",
       "      <th></th>\n",
       "      <th>tweet</th>\n",
       "      <th>label</th>\n",
       "    </tr>\n",
       "  </thead>\n",
       "  <tbody>\n",
       "    <tr>\n",
       "      <th>0</th>\n",
       "      <td>Yuppp Karena UTANG Pemerintah jg UTANG Bangsa ...</td>\n",
       "      <td>neg</td>\n",
       "    </tr>\n",
       "    <tr>\n",
       "      <th>1</th>\n",
       "      <td>Yuks.. kawal kebijakan pemerintah jangan sampa...</td>\n",
       "      <td>pos</td>\n",
       "    </tr>\n",
       "    <tr>\n",
       "      <th>2</th>\n",
       "      <td>Yukk sama-sama bahu membahu membantuu pemerint...</td>\n",
       "      <td>pos</td>\n",
       "    </tr>\n",
       "    <tr>\n",
       "      <th>3</th>\n",
       "      <td>Yuk sahabat kita samasama menjaga jarak antar ...</td>\n",
       "      <td>pos</td>\n",
       "    </tr>\n",
       "    <tr>\n",
       "      <th>4</th>\n",
       "      <td>Yuk sahabat kita sama sama menjaga jarak antar...</td>\n",
       "      <td>pos</td>\n",
       "    </tr>\n",
       "  </tbody>\n",
       "</table>\n",
       "</div>"
      ],
      "text/plain": [
       "                                               tweet label\n",
       "0  Yuppp Karena UTANG Pemerintah jg UTANG Bangsa ...   neg\n",
       "1  Yuks.. kawal kebijakan pemerintah jangan sampa...   pos\n",
       "2  Yukk sama-sama bahu membahu membantuu pemerint...   pos\n",
       "3  Yuk sahabat kita samasama menjaga jarak antar ...   pos\n",
       "4  Yuk sahabat kita sama sama menjaga jarak antar...   pos"
      ]
     },
     "execution_count": 3,
     "metadata": {},
     "output_type": "execute_result"
    }
   ],
   "source": [
    "df.head()"
   ]
  },
  {
   "cell_type": "markdown",
   "metadata": {},
   "source": [
    "## Preprocess"
   ]
  },
  {
   "cell_type": "code",
   "execution_count": 4,
   "metadata": {},
   "outputs": [
    {
     "name": "stdout",
     "output_type": "stream",
     "text": [
      "<class 'pandas.core.frame.DataFrame'>\n",
      "RangeIndex: 1918 entries, 0 to 1917\n",
      "Data columns (total 2 columns):\n",
      " #   Column  Non-Null Count  Dtype \n",
      "---  ------  --------------  ----- \n",
      " 0   tweet   1918 non-null   object\n",
      " 1   label   1918 non-null   object\n",
      "dtypes: object(2)\n",
      "memory usage: 30.1+ KB\n"
     ]
    }
   ],
   "source": [
    "# remove blank \n",
    "df = df[df['tweet'].notnull()]\n",
    "df.info()"
   ]
  },
  {
   "cell_type": "code",
   "execution_count": 5,
   "metadata": {},
   "outputs": [],
   "source": [
    "def regexOperation(tweet):\n",
    "    # Remove Non-ascii\n",
    "    res = re.sub(r'[^\\x00-\\x7F]+',' ', tweet)\n",
    "\n",
    "    # Remove url\n",
    "    res = re.sub(r'http[s]?\\:\\/\\/.[a-zA-Z0-9\\.\\/\\_?=%&#\\-\\+!]+',' ', res)\n",
    "    res = re.sub(r'pic.twitter.com?.[a-zA-Z0-9\\.\\/\\_?=%&#\\-\\+!]+',' ', res)\n",
    "    # Remove mention\n",
    "    res = re.sub(r'\\@([\\w]+)',' ', res)\n",
    "    \n",
    "    # Remove hashtag\n",
    "    # res = re.sub(r'\\#([\\w]+)',' ', res)\n",
    "    # Proccessing hashtag (split camel case)   \n",
    "    res = re.sub(r'((?<=[a-z])[A-Z]|[A-Z](?=[a-z]))', ' \\\\1', res)\n",
    "    #res = re.sub(r'([A-Z])(?<=[a-z]\\1|[A-Za-z]\\1(?=[a-z]))',' \\\\1', res)\n",
    "    \n",
    "    \n",
    "    # Remove special character\n",
    "    res = re.sub(r'[!$%^&*@#()_+|~=`{}\\[\\]%\\-:\";\\'<>?,.\\/]', ' ', res)\n",
    "    # Remove number\n",
    "    res = re.sub(r'[0-9]+','', res)\n",
    "    # Remove consecutive alphabetic characters\n",
    "    res = re.sub(r'([a-zA-Z])\\1\\1','\\\\1', res)\n",
    "    # Remove consecutive whitespace\n",
    "    res = re.sub(' +', ' ', res)\n",
    "    # Remove trailing and leading whitespace\n",
    "    res = re.sub(r'^[ ]|[ ]$','', res)\n",
    "    \n",
    "    # Convert to lower case\n",
    "    res = res.lower()\n",
    "\n",
    "    return res"
   ]
  },
  {
   "cell_type": "code",
   "execution_count": 6,
   "metadata": {},
   "outputs": [],
   "source": [
    "# Tokenization using NLTK\n",
    "\n",
    "def tokenize(tweet):\n",
    "    return word_tokenize(tweet)\n"
   ]
  },
  {
   "cell_type": "code",
   "execution_count": 7,
   "metadata": {},
   "outputs": [],
   "source": [
    "# Stopwords removal\n",
    "stopwordFactory = StopWordRemoverFactory()\n",
    "\n",
    "stopwords = stopwordFactory.get_stop_words()\n",
    "\n",
    "def remove_stopwords(tweet):\n",
    "    return [word for word in tweet if word not in stopwords]\n"
   ]
  },
  {
   "cell_type": "code",
   "execution_count": 8,
   "metadata": {},
   "outputs": [],
   "source": [
    "# Stemming using Sastrawi\n",
    "stemmerFactory = StemmerFactory()\n",
    "\n",
    "stemmer = stemmerFactory.create_stemmer()\n",
    "\n",
    "def stemming(tweet):\n",
    "    return [stemmer.stem(word) for word in tweet]\n"
   ]
  },
  {
   "cell_type": "code",
   "execution_count": 9,
   "metadata": {},
   "outputs": [
    {
     "data": {
      "text/html": [
       "<div>\n",
       "<style scoped>\n",
       "    .dataframe tbody tr th:only-of-type {\n",
       "        vertical-align: middle;\n",
       "    }\n",
       "\n",
       "    .dataframe tbody tr th {\n",
       "        vertical-align: top;\n",
       "    }\n",
       "\n",
       "    .dataframe thead th {\n",
       "        text-align: right;\n",
       "    }\n",
       "</style>\n",
       "<table border=\"1\" class=\"dataframe\">\n",
       "  <thead>\n",
       "    <tr style=\"text-align: right;\">\n",
       "      <th></th>\n",
       "      <th>tweet</th>\n",
       "      <th>label</th>\n",
       "    </tr>\n",
       "  </thead>\n",
       "  <tbody>\n",
       "    <tr>\n",
       "      <th>0</th>\n",
       "      <td>yup utang perintah jg utang bangsa indonesia a...</td>\n",
       "      <td>neg</td>\n",
       "    </tr>\n",
       "    <tr>\n",
       "      <th>1</th>\n",
       "      <td>yuks kawal bijak perintah jangan salah guna ok...</td>\n",
       "      <td>pos</td>\n",
       "    </tr>\n",
       "    <tr>\n",
       "      <th>2</th>\n",
       "      <td>yukk sama sama bahu bahu membantuu perintah pu...</td>\n",
       "      <td>pos</td>\n",
       "    </tr>\n",
       "    <tr>\n",
       "      <th>3</th>\n",
       "      <td>yuk sahabat samasama jaga jarak antar manusia ...</td>\n",
       "      <td>pos</td>\n",
       "    </tr>\n",
       "    <tr>\n",
       "      <th>4</th>\n",
       "      <td>yuk sahabat sama sama jaga jarak antar manusia...</td>\n",
       "      <td>pos</td>\n",
       "    </tr>\n",
       "  </tbody>\n",
       "</table>\n",
       "</div>"
      ],
      "text/plain": [
       "                                               tweet label\n",
       "0  yup utang perintah jg utang bangsa indonesia a...   neg\n",
       "1  yuks kawal bijak perintah jangan salah guna ok...   pos\n",
       "2  yukk sama sama bahu bahu membantuu perintah pu...   pos\n",
       "3  yuk sahabat samasama jaga jarak antar manusia ...   pos\n",
       "4  yuk sahabat sama sama jaga jarak antar manusia...   pos"
      ]
     },
     "execution_count": 9,
     "metadata": {},
     "output_type": "execute_result"
    }
   ],
   "source": [
    "# Apply all preprocessing step except Vectorization\n",
    "def preprocess(tweet):\n",
    "    tweet = regexOperation(tweet)\n",
    "    tweet = tokenize(tweet)\n",
    "    tweet = remove_stopwords(tweet)\n",
    "    tweet = stemming(tweet)\n",
    "    tweet = ' '.join(tweet)\n",
    "    return tweet\n",
    "\n",
    "df['tweet'] = df['tweet'].apply(preprocess)\n",
    "df.head()"
   ]
  },
  {
   "cell_type": "code",
   "execution_count": 10,
   "metadata": {},
   "outputs": [],
   "source": [
    "# Vectorization with TF-IDF\n",
    "vectorizer = TfidfVectorizer(\n",
    "    analyzer='word',\n",
    "    max_features=1000,\n",
    "    ngram_range=(1, 1)\n",
    "    )"
   ]
  },
  {
   "cell_type": "markdown",
   "metadata": {},
   "source": [
    "## ML"
   ]
  },
  {
   "cell_type": "code",
   "execution_count": 11,
   "metadata": {},
   "outputs": [],
   "source": [
    "# # Splitting dataset\n",
    "x_train, x_test, y_train, y_test = train_test_split(df['tweet'], df['label'], test_size=0.2, random_state=42, stratify=df['label'])"
   ]
  },
  {
   "cell_type": "code",
   "execution_count": 12,
   "metadata": {},
   "outputs": [],
   "source": [
    "# Encoding label\n",
    "le = LabelEncoder()\n",
    "\n",
    "y_train_encoded = le.fit_transform(y_train)\n",
    "y_test_encoded = le.transform(y_test)"
   ]
  },
  {
   "cell_type": "code",
   "execution_count": 27,
   "metadata": {},
   "outputs": [],
   "source": [
    "# K-Fold Cross Validation for Hyperparameter Tuning\n",
    "kfolds = StratifiedKFold(n_splits=10, shuffle=True, random_state=1)"
   ]
  },
  {
   "cell_type": "code",
   "execution_count": 46,
   "metadata": {},
   "outputs": [
    {
     "name": "stdout",
     "output_type": "stream",
     "text": [
      "Fitting 10 folds for each of 16 candidates, totalling 160 fits\n"
     ]
    },
    {
     "data": {
      "text/plain": [
       "0.8679152426520849"
      ]
     },
     "execution_count": 46,
     "metadata": {},
     "output_type": "execute_result"
    }
   ],
   "source": [
    "# Train SVM model\n",
    "np.random.seed(1)\n",
    "\n",
    "pipeline_svm = make_pipeline(vectorizer, SVC(probability=True, kernel=\"linear\", class_weight=\"balanced\"))\n",
    "\n",
    "grid_svm = GridSearchCV(pipeline_svm,\n",
    "                    param_grid = {'svc__C': [0.01, 0.1, 1], 'svc__gamma': [1,0.1,0.01,0.001],'svc__kernel': ['rbf', 'poly', 'sigmoid']}, \n",
    "                    cv = kfolds,\n",
    "                    scoring=\"roc_auc\",\n",
    "                    verbose=1,   \n",
    "                    n_jobs=-1) \n",
    "\n",
    "grid_svm.fit(x_train, y_train_encoded)\n",
    "grid_svm.score(x_test, y_test_encoded)"
   ]
  },
  {
   "cell_type": "code",
   "execution_count": 47,
   "metadata": {},
   "outputs": [
    {
     "name": "stdout",
     "output_type": "stream",
     "text": [
      "{'svc__C': 1, 'svc__gamma': 1}\n"
     ]
    }
   ],
   "source": [
    "print(grid_svm.best_params_)"
   ]
  },
  {
   "cell_type": "markdown",
   "metadata": {},
   "source": [
    "## Evaluation"
   ]
  },
  {
   "cell_type": "code",
   "execution_count": 48,
   "metadata": {},
   "outputs": [],
   "source": [
    "def report_results(model, X, y):\n",
    "    pred_proba = model.predict_proba(X)[:, 1]\n",
    "    pred = model.predict(X)        \n",
    "\n",
    "    auc = roc_auc_score(y, pred_proba)\n",
    "    acc = accuracy_score(y, pred)\n",
    "    f1 = f1_score(y, pred)\n",
    "    prec = precision_score(y, pred)\n",
    "    rec = recall_score(y, pred)\n",
    "\n",
    "    cf_matrix = confusion_matrix(y, pred)\n",
    "    group_names = [\"TN\",\"FP\",\"FN\",\"TP\"]\n",
    "    group_counts = [\"{0:0.0f}\".format(value) for value in cf_matrix.flatten()]\n",
    "    group_percentages = [\"{0:.2%}\".format(value) for value in cf_matrix.flatten()/np.sum(cf_matrix)]\n",
    "    labels = [f\"{v1}\\n{v2}\\n{v3}\" for v1, v2, v3 in zip(group_names,group_counts,group_percentages)]\n",
    "    labels = np.asarray(labels).reshape(2,2)\n",
    "    sns.heatmap(cf_matrix, annot=labels, fmt='', cmap=plt.cm.copper)\n",
    "\n",
    "    result = {'auc': auc, 'f1': f1, 'acc': acc, 'precision': prec, 'recall': rec}\n",
    "    return result\n"
   ]
  },
  {
   "cell_type": "code",
   "execution_count": 49,
   "metadata": {},
   "outputs": [
    {
     "data": {
      "text/plain": [
       "{'auc': 0.8679015721120984,\n",
       " 'f1': 0.7774647887323944,\n",
       " 'acc': 0.7942708333333334,\n",
       " 'precision': 0.7666666666666667,\n",
       " 'recall': 0.7885714285714286}"
      ]
     },
     "execution_count": 49,
     "metadata": {},
     "output_type": "execute_result"
    },
    {
     "data": {
      "image/png": "[encoded data removed]",
      "text/plain": [
       "<Figure size 640x480 with 2 Axes>"
      ]
     },
     "metadata": {},
     "output_type": "display_data"
    }
   ],
   "source": [
    "report_results(grid_svm.best_estimator_, x_test, y_test_encoded)"
   ]
  },
  {
   "cell_type": "code",
   "execution_count": 50,
   "metadata": {},
   "outputs": [],
   "source": [
    "def get_roc_curve(model, X, y):\n",
    "    pred_proba = model.predict_proba(X)[:, 1]\n",
    "    fpr, tpr, _ = roc_curve(y, pred_proba)\n",
    "    return fpr, tpr"
   ]
  },
  {
   "cell_type": "code",
   "execution_count": 51,
   "metadata": {},
   "outputs": [],
   "source": [
    "roc_svm = get_roc_curve(grid_svm.best_estimator_, x_test, y_test_encoded)"
   ]
  },
  {
   "cell_type": "code",
   "execution_count": 52,
   "metadata": {},
   "outputs": [
    {
     "data": {
      "image/png": "[encoded data removed]",
      "text/plain": [
       "<Figure size 640x480 with 1 Axes>"
      ]
     },
     "metadata": {},
     "output_type": "display_data"
    }
   ],
   "source": [
    "fpr, tpr = roc_svm\n",
    "roc_auc = auc(fpr, tpr)\n",
    "\n",
    "# Plot ROC Curve\n",
    "plt.figure()\n",
    "plt.plot(fpr, tpr, color='darkorange', lw=2, label='ROC curve (area = %0.4f)' % roc_auc)\n",
    "plt.plot([0, 1], [0, 1], color='navy', lw=2, linestyle='--')\n",
    "plt.xlabel('False Positive Rate')\n",
    "plt.ylabel('True Positive Rate')\n",
    "plt.title('ROC Curve')\n",
    "plt.legend(loc='lower right')\n",
    "plt.show()"
   ]
  },
  {
   "cell_type": "markdown",
   "metadata": {},
   "source": [
    "# Test on new data"
   ]
  },
  {
   "cell_type": "code",
   "execution_count": 54,
   "metadata": {},
   "outputs": [
    {
     "data": {
      "text/plain": [
       "array(['pos', 'neg', 'neg', 'neg', 'pos'], dtype=object)"
      ]
     },
     "execution_count": 54,
     "metadata": {},
     "output_type": "execute_result"
    }
   ],
   "source": [
    "new_tweets = [\n",
    "    'seharusnya masyarakat tidak perlu khawatir dengan adanya lockdown',\n",
    "    'pemerintah harusnya segera menangani covid-19 dengan baik',\n",
    "    'lockdown tidak akan menyelesaikan masalah covid-19',\n",
    "    'masker saja cukup untuk mencegah covid-19, pemerintah terlalu berlebihan sampai lockdown',\n",
    "    'pemerintah tidak perlu lockdown, cukup dengan mengatur protokol kesehatan yang ketat',\n",
    "]\n",
    "le.inverse_transform(grid_svm.best_estimator_.predict([preprocess(tweet) for tweet in new_tweets]))"
   ]
  }
 ],
 "metadata": {
  "kernelspec": {
   "display_name": ".venv",
   "language": "python",
   "name": "python3"
  },
  "language_info": {
   "codemirror_mode": {
    "name": "ipython",
    "version": 3
   },
   "file_extension": ".py",
   "mimetype": "text/x-python",
   "name": "python",
   "nbconvert_exporter": "python",
   "pygments_lexer": "ipython3",
   "version": "3.11.6"
  }
 },
 "nbformat": 4,
 "nbformat_minor": 2
}
